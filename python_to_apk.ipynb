{
  "cells": [
    {
      "cell_type": "markdown",
      "metadata": {
        "id": "view-in-github",
        "colab_type": "text"
      },
      "source": [
        "<a href=\"https://colab.research.google.com/github/Sam21sop/My_App/blob/main/python_to_apk.ipynb\" target=\"_parent\"><img src=\"https://colab.research.google.com/assets/colab-badge.svg\" alt=\"Open In Colab\"/></a>"
      ]
    },
    {
      "cell_type": "markdown",
      "source": [
        "#install buildozer"
      ],
      "metadata": {
        "id": "XxXlcbiO4Oee"
      }
    },
    {
      "cell_type": "code",
      "execution_count": null,
      "metadata": {
        "id": "pKaw8zAJqCm1"
      },
      "outputs": [],
      "source": [
        "!pip install buildozer"
      ]
    },
    {
      "cell_type": "markdown",
      "source": [
        "#install cython==0.29.19"
      ],
      "metadata": {
        "id": "aMp-WAya4Wny"
      }
    },
    {
      "cell_type": "code",
      "execution_count": null,
      "metadata": {
        "id": "Sg4hzIiVrQp1"
      },
      "outputs": [],
      "source": [
        "!pip install cython==0.29.19"
      ]
    },
    {
      "cell_type": "markdown",
      "source": [
        "#install linux dependencies\n",
        "to creating virtual env"
      ],
      "metadata": {
        "id": "4ysDMnXL4ceS"
      }
    },
    {
      "cell_type": "code",
      "execution_count": null,
      "metadata": {
        "id": "FusbvECxrls1"
      },
      "outputs": [],
      "source": [
        "!sudo apt-get install -y \\\n",
        "    python3-pip \\\n",
        "    build-essential \\\n",
        "    git \\\n",
        "    python3 \\\n",
        "    python3-dev \\\n",
        "    ffmpeg \\\n",
        "    libsdl2-dev \\\n",
        "    libsdl2-image-dev \\\n",
        "    libsdl2-mixer-dev \\\n",
        "    libsdl2-ttf-dev \\\n",
        "    libportmidi-dev \\\n",
        "    libswscale-dev \\\n",
        "    libavformat-dev \\\n",
        "    libavcodec-dev \\\n",
        "    zlib1g-dev"
      ]
    },
    {
      "cell_type": "markdown",
      "source": [
        "#install plugins"
      ],
      "metadata": {
        "id": "Ia3s-2Cs4oUF"
      }
    },
    {
      "cell_type": "code",
      "execution_count": null,
      "metadata": {
        "id": "erfPpKAVsFKt"
      },
      "outputs": [],
      "source": [
        "!sudo apt-get install -y \\\n",
        "    libgstreamer1.0 \\\n",
        "    gstreamer1.0-plugins-base \\\n",
        "    gstreamer1.0-plugins-good"
      ]
    },
    {
      "cell_type": "markdown",
      "source": [
        "#install packages"
      ],
      "metadata": {
        "id": "ffAy5GMm412S"
      }
    },
    {
      "cell_type": "code",
      "execution_count": null,
      "metadata": {
        "id": "5oNiu9Trsd0k"
      },
      "outputs": [],
      "source": [
        "#this command unable to install all packeges\n",
        "!sudo apt-get install build-essential libsqlite3-dev sqlite3 bzip2 libbz2-dev zlib1g-dev libssl-dev openssl libgdbm-dev libgdbm-compat-dev liblzma-dev libreadline-dev libncursesw5-dev libffi-dev uuid-dev libffi6"
      ]
    },
    {
      "cell_type": "code",
      "execution_count": null,
      "metadata": {
        "id": "-jSoT0mSth0s"
      },
      "outputs": [],
      "source": [
        "#eliminating those package which are unable to locate\n",
        "!sudo apt-get install build-essential libsqlite3-dev sqlite3 bzip2 libbz2-dev zlib1g-dev libssl-dev openssl libgdbm-dev liblzma-dev libreadline-dev libncursesw5-dev libffi-dev uuid-dev "
      ]
    },
    {
      "cell_type": "code",
      "execution_count": null,
      "metadata": {
        "id": "jf4gxMLWuIyJ"
      },
      "outputs": [],
      "source": [
        "#install those package separately\n",
        "!sudo apt-get install libffi6"
      ]
    },
    {
      "cell_type": "code",
      "source": [
        "#still we have trouble so check the avalable version of package\n",
        "!sudo apt search libffi"
      ],
      "metadata": {
        "id": "ukvK07qD4GDK"
      },
      "execution_count": null,
      "outputs": []
    },
    {
      "cell_type": "code",
      "execution_count": null,
      "metadata": {
        "id": "foYYKn4Buoep"
      },
      "outputs": [],
      "source": [
        "#we got libffi7 version of package so install it \n",
        "!sudo apt install libffi7"
      ]
    },
    {
      "cell_type": "code",
      "execution_count": null,
      "metadata": {
        "id": "2XB2QE6-vN-A"
      },
      "outputs": [],
      "source": [
        "#after installing all packages check any update in libffi-dev package\n",
        "!sudo apt-get install libffi-dev"
      ]
    },
    {
      "cell_type": "markdown",
      "source": [
        "#Initialize buildozer\n",
        "before init buldozer upload python file then execute the following command"
      ],
      "metadata": {
        "id": "uBWcIKHE6OMS"
      }
    },
    {
      "cell_type": "code",
      "source": [
        "#initialize buildozer\n",
        "!buildozer init"
      ],
      "metadata": {
        "id": "RWDIujJc31U1"
      },
      "execution_count": null,
      "outputs": []
    },
    {
      "cell_type": "code",
      "source": [
        "#now its time to make our android app\n",
        "!buildozer -v android debug"
      ],
      "metadata": {
        "id": "r1F-goum36Sz"
      },
      "execution_count": null,
      "outputs": []
    },
    {
      "cell_type": "code",
      "source": [
        "!buildozer android clean"
      ],
      "metadata": {
        "id": "2JreTwps39g0"
      },
      "execution_count": null,
      "outputs": []
    },
    {
      "cell_type": "code",
      "source": [],
      "metadata": {
        "id": "xhTBGQR6DFFb"
      },
      "execution_count": null,
      "outputs": []
    }
  ],
  "metadata": {
    "colab": {
      "provenance": [],
      "authorship_tag": "ABX9TyM7pcIOFkjOfwG6sQyn4kg2",
      "include_colab_link": true
    },
    "kernelspec": {
      "display_name": "Python 3",
      "name": "python3"
    },
    "language_info": {
      "name": "python"
    }
  },
  "nbformat": 4,
  "nbformat_minor": 0
}